{
  "nbformat": 4,
  "nbformat_minor": 0,
  "metadata": {
    "colab": {
      "provenance": [],
      "collapsed_sections": []
    },
    "kernelspec": {
      "name": "python3",
      "display_name": "Python 3"
    },
    "language_info": {
      "name": "python"
    }
  },
  "cells": [
    {
      "cell_type": "code",
      "execution_count": 1,
      "metadata": {
        "colab": {
          "base_uri": "https://localhost:8080/"
        },
        "id": "u0-QUUZC59wj",
        "outputId": "f5498bf7-75f5-4aa6-964b-60bdc2e34c43"
      },
      "outputs": [
        {
          "output_type": "stream",
          "name": "stdout",
          "text": [
            "Looking in indexes: https://pypi.org/simple, https://us-python.pkg.dev/colab-wheels/public/simple/\n",
            "Collecting transformers\n",
            "  Downloading transformers-4.22.2-py3-none-any.whl (4.9 MB)\n",
            "\u001b[K     |████████████████████████████████| 4.9 MB 5.3 MB/s \n",
            "\u001b[?25hRequirement already satisfied: regex!=2019.12.17 in /usr/local/lib/python3.7/dist-packages (from transformers) (2022.6.2)\n",
            "Requirement already satisfied: filelock in /usr/local/lib/python3.7/dist-packages (from transformers) (3.8.0)\n",
            "Requirement already satisfied: numpy>=1.17 in /usr/local/lib/python3.7/dist-packages (from transformers) (1.21.6)\n",
            "Collecting huggingface-hub<1.0,>=0.9.0\n",
            "  Downloading huggingface_hub-0.10.0-py3-none-any.whl (163 kB)\n",
            "\u001b[K     |████████████████████████████████| 163 kB 49.6 MB/s \n",
            "\u001b[?25hRequirement already satisfied: requests in /usr/local/lib/python3.7/dist-packages (from transformers) (2.23.0)\n",
            "Requirement already satisfied: tqdm>=4.27 in /usr/local/lib/python3.7/dist-packages (from transformers) (4.64.1)\n",
            "Requirement already satisfied: pyyaml>=5.1 in /usr/local/lib/python3.7/dist-packages (from transformers) (6.0)\n",
            "Requirement already satisfied: packaging>=20.0 in /usr/local/lib/python3.7/dist-packages (from transformers) (21.3)\n",
            "Collecting tokenizers!=0.11.3,<0.13,>=0.11.1\n",
            "  Downloading tokenizers-0.12.1-cp37-cp37m-manylinux_2_12_x86_64.manylinux2010_x86_64.whl (6.6 MB)\n",
            "\u001b[K     |████████████████████████████████| 6.6 MB 57.9 MB/s \n",
            "\u001b[?25hRequirement already satisfied: importlib-metadata in /usr/local/lib/python3.7/dist-packages (from transformers) (4.12.0)\n",
            "Requirement already satisfied: typing-extensions>=3.7.4.3 in /usr/local/lib/python3.7/dist-packages (from huggingface-hub<1.0,>=0.9.0->transformers) (4.1.1)\n",
            "Requirement already satisfied: pyparsing!=3.0.5,>=2.0.2 in /usr/local/lib/python3.7/dist-packages (from packaging>=20.0->transformers) (3.0.9)\n",
            "Requirement already satisfied: zipp>=0.5 in /usr/local/lib/python3.7/dist-packages (from importlib-metadata->transformers) (3.8.1)\n",
            "Requirement already satisfied: certifi>=2017.4.17 in /usr/local/lib/python3.7/dist-packages (from requests->transformers) (2022.6.15)\n",
            "Requirement already satisfied: chardet<4,>=3.0.2 in /usr/local/lib/python3.7/dist-packages (from requests->transformers) (3.0.4)\n",
            "Requirement already satisfied: idna<3,>=2.5 in /usr/local/lib/python3.7/dist-packages (from requests->transformers) (2.10)\n",
            "Requirement already satisfied: urllib3!=1.25.0,!=1.25.1,<1.26,>=1.21.1 in /usr/local/lib/python3.7/dist-packages (from requests->transformers) (1.24.3)\n",
            "Installing collected packages: tokenizers, huggingface-hub, transformers\n",
            "Successfully installed huggingface-hub-0.10.0 tokenizers-0.12.1 transformers-4.22.2\n"
          ]
        }
      ],
      "source": [
        "!pip install transformers"
      ]
    },
    {
      "cell_type": "code",
      "source": [
        "from transformers import pipeline\n",
        "\n",
        "classifier = pipeline(\"zero-shot-classification\")\n",
        "classifier(\n",
        "    [\"This is a call regarding your Google Cloud Platform\",\n",
        "    \"I am Sundar and this is call from Google\", \n",
        "     \"I am calling about your Microsoft Azure subscription\",\n",
        "     \"My name is Jeff and I am calling from Amazon\",\n",
        "     \"I would like to talk about your Amazon Web Services account.\",\n",
        "     \"I am calling from Microsoft and my name is Satya\"],\n",
        "    candidate_labels=[\"introduction\", \"purpose\"],\n",
        ")"
      ],
      "metadata": {
        "colab": {
          "base_uri": "https://localhost:8080/"
        },
        "id": "rN3jLpQB7saQ",
        "outputId": "af3f532b-7eba-437a-f084-04748b927bb1"
      },
      "execution_count": 19,
      "outputs": [
        {
          "output_type": "stream",
          "name": "stderr",
          "text": [
            "No model was supplied, defaulted to facebook/bart-large-mnli and revision c626438 (https://huggingface.co/facebook/bart-large-mnli).\n",
            "Using a pipeline without specifying a model name and revision in production is not recommended.\n"
          ]
        },
        {
          "output_type": "execute_result",
          "data": {
            "text/plain": [
              "[{'sequence': 'This is a call regarding your Google Cloud Platform',\n",
              "  'labels': ['purpose', 'introduction'],\n",
              "  'scores': [0.8255205750465393, 0.1744794398546219]},\n",
              " {'sequence': 'I am Sundar and this is call from Google',\n",
              "  'labels': ['purpose', 'introduction'],\n",
              "  'scores': [0.5490694642066956, 0.45093047618865967]},\n",
              " {'sequence': 'I am calling about your Microsoft Azure subscription',\n",
              "  'labels': ['purpose', 'introduction'],\n",
              "  'scores': [0.7639389634132385, 0.2360610067844391]},\n",
              " {'sequence': 'My name is Jeff and I am calling from Amazon',\n",
              "  'labels': ['introduction', 'purpose'],\n",
              "  'scores': [0.6434093117713928, 0.3565906882286072]},\n",
              " {'sequence': 'I would like to talk about your Amazon Web Services account.',\n",
              "  'labels': ['purpose', 'introduction'],\n",
              "  'scores': [0.6446520686149597, 0.3553479313850403]},\n",
              " {'sequence': 'I am calling from Microsoft and my name is Satya',\n",
              "  'labels': ['introduction', 'purpose'],\n",
              "  'scores': [0.6305872797966003, 0.36941277980804443]}]"
            ]
          },
          "metadata": {},
          "execution_count": 19
        }
      ]
    },
    {
      "cell_type": "code",
      "source": [
        "from transformers import pipeline\n",
        "\n",
        "ner = pipeline(\"ner\", grouped_entities=True)\n",
        "ner( [\"This is a call regarding your Google Cloud Platform account\",\n",
        "    \"I am Sundar and this is call from Google\", \n",
        "     \"I am calling about your Microsoft Azure subscription\",\n",
        "     \"My name is Jeff and I am calling from Amazon\",\n",
        "     \"I would like to talk about your Amazon Web Services account\",\n",
        "     \"I am calling from Microsoft and my name is Satya\"])"
      ],
      "metadata": {
        "colab": {
          "base_uri": "https://localhost:8080/"
        },
        "id": "AhvBuuTf8mGu",
        "outputId": "af4de2fd-edc7-4e9f-8162-28837f8ba90c"
      },
      "execution_count": 25,
      "outputs": [
        {
          "output_type": "stream",
          "name": "stderr",
          "text": [
            "No model was supplied, defaulted to dbmdz/bert-large-cased-finetuned-conll03-english and revision f2482bf (https://huggingface.co/dbmdz/bert-large-cased-finetuned-conll03-english).\n",
            "Using a pipeline without specifying a model name and revision in production is not recommended.\n"
          ]
        },
        {
          "output_type": "execute_result",
          "data": {
            "text/plain": [
              "[[{'entity_group': 'ORG',\n",
              "   'score': 0.68960655,\n",
              "   'word': 'Google',\n",
              "   'start': 30,\n",
              "   'end': 36},\n",
              "  {'entity_group': 'MISC',\n",
              "   'score': 0.52586794,\n",
              "   'word': 'Cloud Platform',\n",
              "   'start': 37,\n",
              "   'end': 51}],\n",
              " [{'entity_group': 'PER',\n",
              "   'score': 0.9951719,\n",
              "   'word': 'Sundar',\n",
              "   'start': 5,\n",
              "   'end': 11},\n",
              "  {'entity_group': 'ORG',\n",
              "   'score': 0.9955903,\n",
              "   'word': 'Google',\n",
              "   'start': 34,\n",
              "   'end': 40}],\n",
              " [{'entity_group': 'MISC',\n",
              "   'score': 0.6957508,\n",
              "   'word': 'Microsoft A',\n",
              "   'start': 24,\n",
              "   'end': 35},\n",
              "  {'entity_group': 'ORG',\n",
              "   'score': 0.6294751,\n",
              "   'word': '##zure',\n",
              "   'start': 35,\n",
              "   'end': 39}],\n",
              " [{'entity_group': 'PER',\n",
              "   'score': 0.9992053,\n",
              "   'word': 'Jeff',\n",
              "   'start': 11,\n",
              "   'end': 15},\n",
              "  {'entity_group': 'LOC',\n",
              "   'score': 0.9127765,\n",
              "   'word': 'Amazon',\n",
              "   'start': 38,\n",
              "   'end': 44}],\n",
              " [{'entity_group': 'ORG',\n",
              "   'score': 0.9863844,\n",
              "   'word': 'Amazon Web Services',\n",
              "   'start': 32,\n",
              "   'end': 51}],\n",
              " [{'entity_group': 'ORG',\n",
              "   'score': 0.99885,\n",
              "   'word': 'Microsoft',\n",
              "   'start': 18,\n",
              "   'end': 27},\n",
              "  {'entity_group': 'PER',\n",
              "   'score': 0.996202,\n",
              "   'word': 'Satya',\n",
              "   'start': 43,\n",
              "   'end': 48}]]"
            ]
          },
          "metadata": {},
          "execution_count": 25
        }
      ]
    }
  ]
}